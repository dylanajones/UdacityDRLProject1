{
 "cells": [
  {
   "cell_type": "markdown",
   "metadata": {},
   "source": [
    "# Navigation\n",
    "\n",
    "---\n",
    "\n",
    "Below is the setup and training code for the first Udacity Deep Reinforcement Learning Project.\n",
    "\n",
    "### 1. Start the Environment\n",
    "\n",
    "Run the next code cell to install a few packages.  This is taken from the given code repository."
   ]
  },
  {
   "cell_type": "code",
   "execution_count": 1,
   "metadata": {},
   "outputs": [
    {
     "name": "stdout",
     "output_type": "stream",
     "text": [
      "\u001b[31mtensorflow 1.7.1 has requirement numpy>=1.13.3, but you'll have numpy 1.12.1 which is incompatible.\u001b[0m\r\n",
      "\u001b[31mipython 6.5.0 has requirement prompt-toolkit<2.0.0,>=1.0.15, but you'll have prompt-toolkit 3.0.8 which is incompatible.\u001b[0m\r\n"
     ]
    }
   ],
   "source": [
    "!pip -q install ./python"
   ]
  },
  {
   "cell_type": "markdown",
   "metadata": {},
   "source": [
    "Below loads in the environments. For the results shown here we load directly from the online Udacity workspace. If using a local implmentation change this to point to where the downloaded environment is located."
   ]
  },
  {
   "cell_type": "code",
   "execution_count": 2,
   "metadata": {},
   "outputs": [
    {
     "name": "stderr",
     "output_type": "stream",
     "text": [
      "INFO:unityagents:\n",
      "'Academy' started successfully!\n",
      "Unity Academy name: Academy\n",
      "        Number of Brains: 1\n",
      "        Number of External Brains : 1\n",
      "        Lesson number : 0\n",
      "        Reset Parameters :\n",
      "\t\t\n",
      "Unity brain name: BananaBrain\n",
      "        Number of Visual Observations (per agent): 0\n",
      "        Vector Observation space type: continuous\n",
      "        Vector Observation space size (per agent): 37\n",
      "        Number of stacked Vector Observation: 1\n",
      "        Vector Action space type: discrete\n",
      "        Vector Action space size (per agent): 4\n",
      "        Vector Action descriptions: , , , \n"
     ]
    }
   ],
   "source": [
    "from unityagents import UnityEnvironment\n",
    "import numpy as np\n",
    "\n",
    "# please do not modify the line below\n",
    "env = UnityEnvironment(file_name=\"/data/Banana_Linux_NoVis/Banana.x86_64\")"
   ]
  },
  {
   "cell_type": "markdown",
   "metadata": {},
   "source": [
    "Loading the brain for the agent which is responsible for deciding the actions of the associated agent."
   ]
  },
  {
   "cell_type": "code",
   "execution_count": 3,
   "metadata": {},
   "outputs": [],
   "source": [
    "# get the default brain\n",
    "brain_name = env.brain_names[0]\n",
    "brain = env.brains[brain_name]"
   ]
  },
  {
   "cell_type": "markdown",
   "metadata": {},
   "source": [
    "### 2. Examine the State and Action Spaces\n",
    "\n",
    "Running the code below allows us to investigate the state space and actions. This is taken from the default Udacity workbook."
   ]
  },
  {
   "cell_type": "code",
   "execution_count": 4,
   "metadata": {},
   "outputs": [
    {
     "name": "stdout",
     "output_type": "stream",
     "text": [
      "Number of agents: 1\n",
      "Number of actions: 4\n",
      "States look like: [ 1.          0.          0.          0.          0.84408134  0.          0.\n",
      "  1.          0.          0.0748472   0.          1.          0.          0.\n",
      "  0.25755     1.          0.          0.          0.          0.74177343\n",
      "  0.          1.          0.          0.          0.25854847  0.          0.\n",
      "  1.          0.          0.09355672  0.          1.          0.          0.\n",
      "  0.31969345  0.          0.        ]\n",
      "States have length: 37\n"
     ]
    }
   ],
   "source": [
    "# reset the environment\n",
    "env_info = env.reset(train_mode=True)[brain_name]\n",
    "\n",
    "# number of agents in the environment\n",
    "print('Number of agents:', len(env_info.agents))\n",
    "\n",
    "# number of actions\n",
    "action_size = brain.vector_action_space_size\n",
    "print('Number of actions:', action_size)\n",
    "\n",
    "# examine the state space \n",
    "state = env_info.vector_observations[0]\n",
    "print('States look like:', state)\n",
    "state_size = len(state)\n",
    "print('States have length:', state_size)"
   ]
  },
  {
   "cell_type": "markdown",
   "metadata": {},
   "source": [
    "### 3. Defining Our Agent\n",
    "\n",
    "Here we define our agent using a very similiar structure to that from the Udacity example. Our agent uses a Deep Q-Network as the decision making algorithm. Below the defention is a more detailed discussion of the network architecture and hyperparameters used."
   ]
  },
  {
   "cell_type": "code",
   "execution_count": 5,
   "metadata": {},
   "outputs": [
    {
     "name": "stdout",
     "output_type": "stream",
     "text": [
      "ModuleList(\n",
      "  (0): Linear(in_features=37, out_features=256, bias=True)\n",
      "  (1): Linear(in_features=256, out_features=64, bias=True)\n",
      "  (2): Linear(in_features=64, out_features=4, bias=True)\n",
      ")\n"
     ]
    }
   ],
   "source": [
    "import torch\n",
    "from torch import nn\n",
    "from torch import optim\n",
    "import torch.nn.functional as F\n",
    "\n",
    "import random\n",
    "\n",
    "from dqn_agent import Agent\n",
    "\n",
    "# resetting environment to get parameters\n",
    "env_info = env.reset(train_mode=False)[brain_name]\n",
    "\n",
    "# Network Structure\n",
    "input_size = len(env_info.vector_observations[0])\n",
    "hidden_sizes = [256, 64]\n",
    "output_size = brain.vector_action_space_size\n",
    "\n",
    "# Making the agent and setting the seed to be random\n",
    "agent = Agent(input_size, output_size, seed=random.randint(1,100), fc_layers=hidden_sizes)\n",
    "\n",
    "# Printing out the layers of the agents network\n",
    "print(agent.qnetwork_local.layers)"
   ]
  },
  {
   "cell_type": "markdown",
   "metadata": {},
   "source": [
    "#### Network Architecture\n",
    "\n",
    "For this project it was found the a three layer architecture provided good results. Here the first layer has 256 nodes, the second layer has 64 nodes, and the final layer has 4 nodes corresponding to the number of actions.\n",
    "\n",
    "All layers except for the final layer use the ReLU activation function.\n",
    "\n",
    "#### Training Algorithm\n",
    "\n",
    "Here we use a Deep Q Network as the learning algorithm. This attempts to learn the Q value for every state and action pair which is then used when making decisions. \n",
    "\n",
    "Experience replay and a target-Q network are used to improve and stabilize training. Additionally, during training epsilon greedy action selection is used.\n",
    "\n",
    "#### Hyperparameters\n",
    "\n",
    "Replay Buffer Size                - 10,000  \n",
    "Batch Size                        - 64  \n",
    "Gamma (Future Discount)           - 0.99  \n",
    "Tau (Target Network Update Rate)  - 0.001  \n",
    "Learning Rate                     - 0.0005  \n",
    "Update Rate (Steps before update) - 4  \n",
    "Starting Epsilon Value            - 1.0  \n",
    "Epsilon Decay Rate                - 0.997  \n",
    "Maximum Episodes                  - 3,000  "
   ]
  },
  {
   "cell_type": "markdown",
   "metadata": {},
   "source": [
    "### 4. Training the Agent\n",
    "\n",
    "Below is the code for training the agent. The average score is printed every 100 episodes."
   ]
  },
  {
   "cell_type": "code",
   "execution_count": 6,
   "metadata": {},
   "outputs": [
    {
     "name": "stdout",
     "output_type": "stream",
     "text": [
      "Episode 100\tAverage Score: 0.75\n",
      "Episode 200\tAverage Score: 2.60\n",
      "Episode 300\tAverage Score: 4.49\n",
      "Episode 400\tAverage Score: 7.00\n",
      "Episode 500\tAverage Score: 9.12\n",
      "Episode 600\tAverage Score: 10.13\n",
      "Episode 700\tAverage Score: 11.02\n",
      "Episode 800\tAverage Score: 11.14\n",
      "Episode 900\tAverage Score: 12.44\n",
      "\n",
      "Environment solved in 880 episodes!\tAverage Score: 13.00\n",
      "Episode 980\tAverage Score: 13.00\n"
     ]
    }
   ],
   "source": [
    "from collections import deque\n",
    "\n",
    "scores = []\n",
    "running_avg = []\n",
    "scores_window = deque(maxlen=100)\n",
    "eps = 1.0\n",
    "eps_end = 0.01\n",
    "eps_decay = 0.997\n",
    "n_episodes = 3000\n",
    "print_every = 100\n",
    "\n",
    "for i_episodes in range(1, n_episodes+1):\n",
    "    \n",
    "    env_info = env.reset(train_mode=True)[brain_name]\n",
    "    state = env_info.vector_observations[0]\n",
    "    score = 0\n",
    "    \n",
    "    while True:\n",
    "        action = agent.act(state, eps=eps)\n",
    "        env_info = env.step(int(action))[brain_name]\n",
    "        next_state = env_info.vector_observations[0]\n",
    "        reward = env_info.rewards[0]\n",
    "        done = env_info.local_done[0]\n",
    "        score += reward\n",
    "        agent.step(state, action, reward, next_state, done)\n",
    "        state = next_state\n",
    "        if done:\n",
    "            break\n",
    "    \n",
    "    scores.append(score)\n",
    "    scores_window.append(score)\n",
    "    running_avg.append(np.mean(scores_window))\n",
    "    eps = max(eps_end, eps_decay * eps)\n",
    "    \n",
    "    if i_episodes % print_every == 0:\n",
    "        print('\\rEpisode {}\\tAverage Score: {:.2f}'.format(i_episodes, np.mean(scores_window)))\n",
    "        \n",
    "    if np.mean(scores_window)>=13.0:\n",
    "            print('\\nEnvironment solved in {:d} episodes!\\tAverage Score: {:.2f}'.format(i_episodes-100, np.mean(scores_window)))\n",
    "            torch.save(agent.qnetwork_local.state_dict(), 'checkpoint.pth')\n",
    "            break\n",
    "            \n",
    "\n",
    "print('\\rEpisode {}\\tAverage Score: {:.2f}'.format(i_episodes, np.mean(scores_window)))"
   ]
  },
  {
   "cell_type": "markdown",
   "metadata": {},
   "source": [
    "### 5. Plotting the Resuts\n",
    "\n",
    "Below is code for plotting both the score from each individual episode as well as the score averaged over the previous 100 episodes."
   ]
  },
  {
   "cell_type": "code",
   "execution_count": 7,
   "metadata": {},
   "outputs": [
    {
     "data": {
      "image/png": "[encoded data removed]",
      "text/plain": [
       "<matplotlib.figure.Figure at 0x7fe4aa806cf8>"
      ]
     },
     "metadata": {
      "needs_background": "light"
     },
     "output_type": "display_data"
    },
    {
     "data": {
      "image/png": "[encoded data removed]",
      "text/plain": [
       "<matplotlib.figure.Figure at 0x7fe46539da90>"
      ]
     },
     "metadata": {
      "needs_background": "light"
     },
     "output_type": "display_data"
    }
   ],
   "source": [
    "# Ploting Results\n",
    "\n",
    "%matplotlib inline\n",
    "import matplotlib.pyplot as plt\n",
    "\n",
    "\n",
    "# plot the scores\n",
    "fig = plt.figure()\n",
    "ax = fig.add_subplot(111)\n",
    "plt.plot(np.arange(len(scores)), scores)\n",
    "plt.ylabel('Score')\n",
    "plt.xlabel('Episode #')\n",
    "fig = plt.figure()\n",
    "ax = fig.add_subplot(111)\n",
    "plt.plot(np.arange(len(running_avg)), running_avg)\n",
    "plt.ylabel('Running Average')\n",
    "plt.xlabel('Episode #')\n",
    "plt.show()"
   ]
  },
  {
   "cell_type": "markdown",
   "metadata": {},
   "source": [
    "### 6. Future Work\n",
    "\n",
    "One interesting direction for future work would be to implement a prioritized replay buffer. This would potentially improve training speed as it would help to ensure that the expereinces seen during replay would be more impactful.\n",
    "\n",
    "A second direction for future work would be to do a more extensive hyperparameter sweep. The hyperparameteres here were selected hueristically and do not necessarily reflect the optimal values. Additional testing would also be helpful here to ensure that these hyperparameters are good rather than just demonstrating them once."
   ]
  },
  {
   "cell_type": "code",
   "execution_count": null,
   "metadata": {},
   "outputs": [],
   "source": []
  }
 ],
 "metadata": {
  "kernelspec": {
   "display_name": "Python 3",
   "language": "python",
   "name": "python3"
  },
  "language_info": {
   "codemirror_mode": {
    "name": "ipython",
    "version": 3
   },
   "file_extension": ".py",
   "mimetype": "text/x-python",
   "name": "python",
   "nbconvert_exporter": "python",
   "pygments_lexer": "ipython3",
   "version": "3.6.3"
  }
 },
 "nbformat": 4,
 "nbformat_minor": 2
}
